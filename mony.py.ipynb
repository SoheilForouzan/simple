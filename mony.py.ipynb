{
 "cells": [
  {
   "cell_type": "code",
   "execution_count": 35,
   "id": "eadf7dd5",
   "metadata": {},
   "outputs": [],
   "source": [
    "import random\n",
    "random.seed()\n",
    "\n",
    "\n",
    "people = []\n",
    "for i in range(0, 50):\n",
    "    people.append(100)\n",
    "    \n",
    "for beshkan in range(0, 100000):\n",
    "    for person1 in range (0, 50):\n",
    "        person2 = random.randrange(0, 50)\n",
    "        while people[person2] == 0:\n",
    "            person2 = random.randrange(0, 50)\n",
    "        if people[person1] != 0:  \n",
    "        # print (person1, person2)\n",
    "            people[person1] = people[person1] -1\n",
    "            people[person2] = people[person2] +1\n"
   ]
  },
  {
   "cell_type": "code",
   "execution_count": 38,
   "id": "a5575a2a",
   "metadata": {},
   "outputs": [
    {
     "data": {
      "text/plain": [
       "<BarContainer object of 50 artists>"
      ]
     },
     "execution_count": 38,
     "metadata": {},
     "output_type": "execute_result"
    },
    {
     "data": {
      "image/png": "[encoded data removed]",
      "text/plain": [
       "<Figure size 432x288 with 1 Axes>"
      ]
     },
     "metadata": {
      "needs_background": "light"
     },
     "output_type": "display_data"
    }
   ],
   "source": [
    "import matplotlib.pyplot as plt\n",
    "%matplotlib inline\n",
    "\n",
    "plt.bar(range(0, 50), sorted(people, reverse=True))"
   ]
  }
 ],
 "metadata": {
  "kernelspec": {
   "display_name": "Python 3 (ipykernel)",
   "language": "python",
   "name": "python3"
  },
  "language_info": {
   "codemirror_mode": {
    "name": "ipython",
    "version": 3
   },
   "file_extension": ".py",
   "mimetype": "text/x-python",
   "name": "python",
   "nbconvert_exporter": "python",
   "pygments_lexer": "ipython3",
   "version": "3.9.6"
  }
 },
 "nbformat": 4,
 "nbformat_minor": 5
}
